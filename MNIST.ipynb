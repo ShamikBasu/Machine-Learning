{
 "cells": [
  {
   "cell_type": "code",
   "execution_count": 1,
   "id": "61999820",
   "metadata": {},
   "outputs": [],
   "source": [
    "import numpy as np\n",
    "import tensorflow as tf"
   ]
  },
  {
   "cell_type": "code",
   "execution_count": 2,
   "id": "831cb27e",
   "metadata": {},
   "outputs": [],
   "source": [
    "from tensorflow.keras.datasets import mnist\n"
   ]
  },
  {
   "cell_type": "code",
   "execution_count": 3,
   "id": "5f0000bc",
   "metadata": {},
   "outputs": [],
   "source": [
    "num_classes = 10\n",
    "num_features = 784"
   ]
  },
  {
   "cell_type": "code",
   "execution_count": 4,
   "id": "98c81663",
   "metadata": {},
   "outputs": [
    {
     "name": "stdout",
     "output_type": "stream",
     "text": [
      "Downloading data from https://storage.googleapis.com/tensorflow/tf-keras-datasets/mnist.npz\n",
      "11493376/11490434 [==============================] - 2s 0us/step\n"
     ]
    }
   ],
   "source": [
    "(x_train, y_train), (x_test, y_test) = mnist.load_data()"
   ]
  },
  {
   "cell_type": "code",
   "execution_count": 6,
   "id": "ac887c1d",
   "metadata": {},
   "outputs": [],
   "source": [
    "x_train,x_test = np.array(x_train,np.float32), np.array(x_test,np.float32)\n",
    "x_train , x_test =  x_train.reshape([-1,num_features]),x_test.reshape([-1,num_features])"
   ]
  },
  {
   "cell_type": "code",
   "execution_count": 7,
   "id": "50dccd8e",
   "metadata": {},
   "outputs": [],
   "source": [
    "x_train , x_test = x_train/255 , x_test/255"
   ]
  },
  {
   "cell_type": "code",
   "execution_count": 8,
   "id": "a5dd48df",
   "metadata": {},
   "outputs": [],
   "source": [
    "%matplotlib inline"
   ]
  },
  {
   "cell_type": "code",
   "execution_count": 9,
   "id": "3d4f8e05",
   "metadata": {},
   "outputs": [],
   "source": [
    "import matplotlib.pyplot as plt"
   ]
  },
  {
   "cell_type": "code",
   "execution_count": 11,
   "id": "63c5fa30",
   "metadata": {},
   "outputs": [
    {
     "data": {
      "image/png": "[encoded data removed]",
      "text/plain": [
       "<Figure size 432x288 with 1 Axes>"
      ]
     },
     "metadata": {
      "needs_background": "light"
     },
     "output_type": "display_data"
    }
   ],
   "source": [
    "def display_sample(num):\n",
    "    label = y_train[num]\n",
    "    image= x_train[num].reshape([28,28])\n",
    "    plt.title(\"sample: %d , Label: %d\"%(num,label))\n",
    "    plt.imshow(image,cmap=plt.get_cmap('gray_r'))\n",
    "    plt.show()\n",
    "display_sample(900)"
   ]
  },
  {
   "cell_type": "code",
   "execution_count": null,
   "id": "96fcfcf9",
   "metadata": {},
   "outputs": [],
   "source": []
  }
 ],
 "metadata": {
  "kernelspec": {
   "display_name": "Python 3",
   "language": "python",
   "name": "python3"
  },
  "language_info": {
   "codemirror_mode": {
    "name": "ipython",
    "version": 3
   },
   "file_extension": ".py",
   "mimetype": "text/x-python",
   "name": "python",
   "nbconvert_exporter": "python",
   "pygments_lexer": "ipython3",
   "version": "3.8.8"
  }
 },
 "nbformat": 4,
 "nbformat_minor": 5
}
