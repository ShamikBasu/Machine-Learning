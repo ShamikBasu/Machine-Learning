{
 "cells": [
  {
   "cell_type": "code",
   "execution_count": null,
   "id": "90937544",
   "metadata": {},
   "outputs": [],
   "source": []
  },
  {
   "cell_type": "code",
   "execution_count": 1,
   "id": "8886ff55",
   "metadata": {},
   "outputs": [],
   "source": [
    "import gym\n",
    "import random\n",
    "random.seed(1234)"
   ]
  },
  {
   "cell_type": "code",
   "execution_count": 2,
   "id": "0efbe03c",
   "metadata": {},
   "outputs": [],
   "source": [
    "street_map = gym.make(\"Taxi-v3\").env\n"
   ]
  },
  {
   "cell_type": "code",
   "execution_count": 3,
   "id": "37335222",
   "metadata": {},
   "outputs": [
    {
     "name": "stdout",
     "output_type": "stream",
     "text": [
      "+---------+\n",
      "|R: | :\u001b[43m \u001b[0m:\u001b[34;1mG\u001b[0m|\n",
      "| : | : : |\n",
      "| : : : : |\n",
      "| | : | : |\n",
      "|\u001b[35mY\u001b[0m| : |B: |\n",
      "+---------+\n",
      "\n"
     ]
    }
   ],
   "source": [
    "street_map.render()\n"
   ]
  },
  {
   "cell_type": "code",
   "execution_count": 4,
   "id": "28a01ea4",
   "metadata": {},
   "outputs": [],
   "source": [
    "#staring location (3,4)\n",
    "#pickup location 2\n",
    "#drop off location 0\n",
    "starting_point = street_map.encode(3,4,2,0)"
   ]
  },
  {
   "cell_type": "code",
   "execution_count": 5,
   "id": "07092cf3",
   "metadata": {},
   "outputs": [
    {
     "name": "stdout",
     "output_type": "stream",
     "text": [
      "+---------+\n",
      "|\u001b[35mR\u001b[0m: | : :G|\n",
      "| : | : : |\n",
      "| : : : : |\n",
      "| | : | :\u001b[43m \u001b[0m|\n",
      "|\u001b[34;1mY\u001b[0m| : |B: |\n",
      "+---------+\n",
      "\n"
     ]
    }
   ],
   "source": [
    "street_map.s= starting_point\n",
    "street_map.render()"
   ]
  },
  {
   "cell_type": "code",
   "execution_count": 6,
   "id": "8d1f4180",
   "metadata": {},
   "outputs": [
    {
     "data": {
      "text/plain": [
       "{0: [(1.0, 488, -1, False)],\n",
       " 1: [(1.0, 288, -1, False)],\n",
       " 2: [(1.0, 388, -1, False)],\n",
       " 3: [(1.0, 368, -1, False)],\n",
       " 4: [(1.0, 388, -10, False)],\n",
       " 5: [(1.0, 388, -10, False)]}"
      ]
     },
     "execution_count": 6,
     "metadata": {},
     "output_type": "execute_result"
    }
   ],
   "source": [
    "street_map.P[starting_point]  #reword table for starting_point\n"
   ]
  },
  {
   "cell_type": "code",
   "execution_count": 7,
   "id": "7036331c",
   "metadata": {},
   "outputs": [
    {
     "data": {
      "text/plain": [
       "array([-2.46669923, -2.4510224 , -2.46537994, -2.4510224 , -9.26244718,\n",
       "       -9.68667537])"
      ]
     },
     "execution_count": 7,
     "metadata": {},
     "output_type": "execute_result"
    }
   ],
   "source": [
    "import numpy as np\n",
    "q_table = np.zeros([street_map.observation_space.n,street_map.action_space.n])\n",
    "learning_rate =  0.1\n",
    "discount_factor = 0.6\n",
    "exploration =  0.1\n",
    "epochs = 100000  #number of simulated taxi runs\n",
    "for taxi_run in range(epochs):\n",
    "    state = street_map.reset()\n",
    "    done =  False\n",
    "    while not done :\n",
    "        random_value = random.uniform(0,1)\n",
    "        if (random_value < exploration):\n",
    "            action = street_map.action_space.sample() #explore random action\n",
    "        else:\n",
    "            action = np.argmax(q_table[state])\n",
    "        next_state, reward,  done, info = street_map.step(action)\n",
    "        prev_q=q_table[state,action]\n",
    "        next_max_q =  np.max(q_table[next_state])\n",
    "        new_q = (1-learning_rate)*prev_q+learning_rate*(reward+discount_factor*next_max_q)\n",
    "        q_table[state,action] = new_q\n",
    "        state =  next_state\n",
    "q_table[starting_point]"
   ]
  },
  {
   "cell_type": "code",
   "execution_count": null,
   "id": "473a34ad",
   "metadata": {},
   "outputs": [
    {
     "name": "stdout",
     "output_type": "stream",
     "text": [
      "Trip Number5\n",
      "+---------+\n",
      "|\u001b[35mR\u001b[0m: | : :G|\n",
      "|\u001b[42m_\u001b[0m: | : : |\n",
      "| : : : : |\n",
      "| | : | : |\n",
      "|Y| : |B: |\n",
      "+---------+\n",
      "  (North)\n",
      "\n"
     ]
    }
   ],
   "source": [
    "from IPython.display import clear_output\n",
    "from time import sleep\n",
    "for trip_num in range (1,51):\n",
    "    state = street_map.reset()\n",
    "    done = False\n",
    "    while not done:\n",
    "        action = np.argmax(q_table[state])\n",
    "        next_state , reward , done , info = street_map.step(action)\n",
    "        clear_output(wait=True)\n",
    "        print(\"Trip Number\"+str(trip_num))\n",
    "        print(street_map.render(mode=\"ansi\"))\n",
    "        sleep(.5)\n",
    "        state=next_state\n",
    "    sleep(2)"
   ]
  },
  {
   "cell_type": "code",
   "execution_count": null,
   "id": "e3bf6c35",
   "metadata": {},
   "outputs": [],
   "source": []
  }
 ],
 "metadata": {
  "kernelspec": {
   "display_name": "Python 3",
   "language": "python",
   "name": "python3"
  },
  "language_info": {
   "codemirror_mode": {
    "name": "ipython",
    "version": 3
   },
   "file_extension": ".py",
   "mimetype": "text/x-python",
   "name": "python",
   "nbconvert_exporter": "python",
   "pygments_lexer": "ipython3",
   "version": "3.8.8"
  }
 },
 "nbformat": 4,
 "nbformat_minor": 5
}
